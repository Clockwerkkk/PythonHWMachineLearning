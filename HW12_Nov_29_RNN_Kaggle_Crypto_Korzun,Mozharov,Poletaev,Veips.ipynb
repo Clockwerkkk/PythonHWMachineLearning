{
  "nbformat": 4,
  "nbformat_minor": 0,
  "metadata": {
    "accelerator": "GPU",
    "colab": {
      "name": "HW12_Nov_29_RNN_Kaggle_Crypto_Korzun,Mozharov,Poletaev, Veips.ipynb",
      "provenance": [],
      "collapsed_sections": []
    },
    "kernelspec": {
      "display_name": "Python 3",
      "name": "python3"
    },
    "language_info": {
      "name": "python"
    }
  },
  "cells": [
    {
      "cell_type": "markdown",
      "metadata": {
        "id": "C-Ez00YbODqN"
      },
      "source": [
        "<strong><font color=darkblue size=6>HW12, Nov-29</font></strong>"
      ]
    },
    {
      "cell_type": "markdown",
      "metadata": {
        "id": "A9ZLBgDfOHQa"
      },
      "source": [
        "1. **Kaggle public LB rank & score**: 10 & 0.15240 \n",
        "1. **Kaggle team name**: DB-Max Verstappen Fun Club-Mozharov,Korzun,Veips,Poletaev \n",
        "  1. Use format: `[ProGroup ID]-[Your fancy Kaggle group name]-[Team member names]`. \n",
        "  1. Eg. `DA-Dota-Lazareva,Iazykova,Ovyan` (see Rules in Kaggle for ProGroup ID)\n",
        "1. Our Colab uses [GPU]\n",
        "\n",
        "Your private LB score must be reproducible with this Colab. Seed all [RNG](https://en.wikipedia.org/wiki/Random_number_generation). Don't exceed runtime."
      ]
    },
    {
      "cell_type": "markdown",
      "metadata": {
        "id": "klEwFxwXOgNB"
      },
      "source": [
        "<hr color=darkblue>\n",
        "\n",
        "<strong><font color=darkblue size=6>Task 1: Theory (DSBA/ICEF only)</font></strong>"
      ]
    },
    {
      "cell_type": "markdown",
      "source": [
        "[LaTeX macros]\n",
        "$%\n",
        "    \\newcommand{\\R}{\\mathbb R}%\n",
        "    \\newcommand{\\pr}[1]{\\left(#1\\right)}%\n",
        "    \\newcommand{\\given}{~\\middle|~}%\n",
        "    \\newcommand{\\prc}[2]{\\pr{#1 \\given #2}}%\n",
        "    \\DeclareMathOperator{\\GammaDistr}{Gamma}%\n",
        "    \\DeclareMathOperator{\\AIC}{AIC}%\n",
        "    \\DeclareMathOperator{\\BIC}{BIC}%\n",
        "    \\newcommand{\\oo}{\\infty}%\n",
        "    \\newcommand{\\ooL}{{-\\oo}}%\n",
        "    \\newcommand{\\ooR}{{+\\oo}}%\n",
        "    \\newcommand{\\diff}{\\mathrm d}%\n",
        "    \\newcommand{\\Diff}{\\,\\diff}%\n",
        "    \\newcommand{\\partder}[2][{}]{\\frac{\\partial^{#1}}{\\partial #2^{#1}}}%\n",
        "    \\newcommand{\\I}{\\mathcal I}%\n",
        "$"
      ],
      "metadata": {
        "id": "voRWIx26MtTs"
      }
    },
    {
      "cell_type": "markdown",
      "metadata": {
        "id": "w5aXPMclQhr-"
      },
      "source": [
        "## **Task 1.1**"
      ]
    },
    {
      "cell_type": "markdown",
      "metadata": {
        "id": "fyf_m1b7HByV"
      },
      "source": [
        "Indicate whether the following statements are true or false. Justify your answers.\n",
        "\n",
        "i. Other things equal, a machine learning model trained on more training observation is less likely to overfit.\n",
        "\n",
        "ii.  Compared with AIC, BIC tends to select a larger model size when the sample size $n$ becomes sufficiently large.\n",
        "\n",
        "iii. Explain the assumptions made in each of the following resampling methods in forecasting the daily [TSLA](https://you.com/search?q=tesla+stock) closing stock price based on stock's [OHLC](https://en.wikipedia.org/wiki/Open-high-low-close_chart).\n",
        "1. [`sklearn.model_selection.KFold`](https://scikit-learn.org/stable/modules/generated/sklearn.model_selection.KFold.html#sklearn.model_selection.KFold)\n",
        "1. [`sklearn.model_selection.TimeSeriesSplit`](https://scikit-learn.org/stable/modules/generated/sklearn.model_selection.TimeSeriesSplit.html)\n"
      ]
    },
    {
      "cell_type": "markdown",
      "metadata": {
        "id": "o9H19L8od2Kf"
      },
      "source": [
        "## **SOLUTION**"
      ]
    },
    {
      "cell_type": "markdown",
      "metadata": {
        "id": "XsNVUFF3QSZh"
      },
      "source": [
        "### Part i\n",
        "This is true. A machine learning model represents a family of functions used for making predictions with the function to be used being chosen at the training step. For example, the linear regression model represents the family of linear functions of input, $\\hat y_i(X_i) = b + \\mathbf{w} · X_i$, where $b \\in \\R$, $\\mathbf{w} \\in \\R^p$ are parameters, and $X_i \\in \\R^p$.\n",
        "\n",
        "If wa are given a set of data points $(X_i, y_i)$, a machine learning model would probably try to find a function that passes close to these data points out of the function family the model represents. However, highly flexible machine learning models, such as decision trees or variants of neural networks, have very different kinds of these predictive functions in their function families, so there are usually many functions which pass close to the given data points, but may diverge significantly in their values in other data points.\n",
        "\n",
        "Consider the model on the training step choosing a function out of its function family. By adding more data points the chosen function should pass close to, we are removing from consideration (or at least penalizing) functions that do not. Since we fundamentally want to choose a function that models the underlying data point distribution most closely, adding new points increases our odds to do so, as we have probably dismissed much more functions that pass far away from this distribution than those passing close to it.\n",
        "\n",
        "Hence (other things equal), the more data points we have, the greater is the proportion of functions that model the distribution reasonably well among all functions that the model can plausibly choose with varying but plausible values of random noise in observations. The greater is this proportion, the greater is the chance that training the model would yield a fair approximation of the data distribution and the less likely is overfitting."
      ]
    },
    {
      "cell_type": "markdown",
      "source": [
        "### Part ii\n",
        "This is probably false.\n",
        "For a model with $k$ parameters fit by the maximum likelihood estimation method (the set of such models includes the models fit by least squares) using $n$ training observations, AIC and BIC are defined as follows:\n",
        "$$\\AIC = 2k - 2\\log L^* \\qquad \\BIC = k\\log n - 2\\log L^*$$\n",
        "where $L^*$ is the maximized value of the likelihood (source: Wikipedia [[AIC]](https://en.wikipedia.org/wiki/Akaike_information_criterion#Definition) [[BIC]](https://en.wikipedia.org/wiki/Bayesian_information_criterion#Definition)). The latter is not very important for us, since the term with $L^*$ is the same both in AIC and in BIC, but what is different in these metrics is the first term: $2k$ in AIC, and $k\\log n$ in BIC.\n",
        "\n",
        "Lower values of AIC and BIC indicate better models. When $n \\to \\oo$, $\\log n \\to \\oo$ as well, which means that, when optimizing BIC, the cost of each additional parameter becomes quite high in comparison with AIC, where it is 2 regardless of $n$. Hence, it is quite likely that BIC would favor a smaller value of $k$ than AIC for large $n$, which corresponds to smaller models, and not larger ones, as suggested in the statement."
      ],
      "metadata": {
        "id": "Gu6DNvGXMzrg"
      }
    },
    {
      "cell_type": "markdown",
      "source": [
        "### Part iii\n",
        "`KFold` assumes the order of observations and the relative order of training/testing observations do not affect the result of the model. When splitting into folds and assigning folds to either training or testing observations, it can freely put a training observation before (chronologically) a testing observation or vice versa.\n",
        "\n",
        "With shuffling enabled, `KFold` evaluates the model on the interpolation task,\n",
        "when it has to predict the closing price of the TSLA stock on a certain day with it almost always knowing closing prices within days from this moment (that is, a testing observation is usually surrounded by training observations).\n",
        "\n",
        "With shuffling disabled, `KFold` evaluates how well the model can fill in the omitted interval from the price dynamics given the past and the future.\n",
        "\n",
        "Both tasks are anything but forecasting.\n",
        "\n",
        "`TimeSeriesSplits` assumes that the data points are ordered by time, and the goal is to predict the future given the past. Another assumption is that the train/test indices returned must be continuous ranges with respect to the dataset provided (with an optional gap between train/test ranges). It means that `TimeSeriesSplit` is free to choose whatever continuous time ranges for training and testing, but all test observations must come chronologically after all training observations."
      ],
      "metadata": {
        "id": "0KZ1rqF9Wz_M"
      }
    },
    {
      "cell_type": "markdown",
      "metadata": {
        "id": "9b5_3bqkQk5r"
      },
      "source": [
        "## **Task 1.2**"
      ]
    },
    {
      "cell_type": "markdown",
      "metadata": {
        "id": "tuoKIQcJPA3l"
      },
      "source": [
        "Given  [iid](https://en.wikipedia.org/wiki/Independent_and_identically_distributed_random_variables) random variables $X_1,...,X_n$, each of the form $X\\sim f(\\theta)$ with [PDF](https://en.wikipedia.org/wiki/Probability_density_function):\n",
        "\n",
        "$$f\\left(X \\mid \\theta\\right)=\\frac{\\theta X}{ e ^{0.5 X^{2} \\theta}}, $$\n",
        "\n",
        "where $ \\quad X > 0 , \\quad \\theta>0.$\n",
        "\n",
        "(a) Assign the Gamma($\\alpha$, $\\beta$) prior on $\\theta$, for $\\alpha$, $\\beta$ > 0 and derive the corresponding [posterior PDF](https://en.wikipedia.org/wiki/Posterior_probability).\n",
        "\n",
        "(b) Derive the [Jeffreys prior](https://en.wikipedia.org/wiki/Jeffreys_prior) for $\\theta$. Use it to obtain the corresponding posterior distribution."
      ]
    },
    {
      "cell_type": "markdown",
      "metadata": {
        "id": "wWqv112-X8cC"
      },
      "source": [
        "## **SOLUTION**"
      ]
    },
    {
      "cell_type": "markdown",
      "metadata": {
        "id": "A13X1tlBQfD3"
      },
      "source": [
        "### Part (a)\n",
        "Let $g(\\theta)$ be the prior PDF of $\\theta$. Then\n",
        "$$g(\\theta) = \\frac{\\beta^\\alpha}{\\Gamma(\\alpha)} \\gamma(\\alpha, \\beta\\theta)$$\n",
        "since $\\theta \\sim \\GammaDistr(\\alpha, \\beta)$.\n",
        "\n",
        "Denote the posterior PDF of $\\theta$ as $g\\prc{\\theta}X$. From the Bayes Theorem, we obtain\n",
        "$$g\\prc{\\theta}X = \\frac{f\\prc{X}\\theta · g(\\theta)}{f(X)}$$\n",
        "where $f(X)$ can be regarded as a scaling factor independent of $\\theta$.\n",
        "By substituting PDF definitions, we obtain\n",
        "$$g\\prc{\\theta}X = \\frac{\\theta X}{\\exp\\pr{\\frac12 X^2\\theta}} · \\frac{\\beta^\\alpha}{\\Gamma(\\alpha)} \\gamma(\\alpha, \\beta\\theta) · \\frac1{f(X)}$$\n",
        "We have found the posterior PDF modulo the scaling factor $\\frac1{f(X)}$. To find the latter, use the constraint:\n",
        "$$\n",
        "    \\int_0^\\ooR\n",
        "        \\frac{\\theta X}{\\exp\\pr{\\frac12 X^2\\theta}}\n",
        "        · \\frac{\\beta^\\alpha}{\\Gamma(\\alpha)} \\gamma(\\alpha, \\beta\\theta)\n",
        "        · \\frac1{f(X)}\n",
        "    \\Diff \\theta = 1\n",
        "$$\n",
        "\n",
        "Rewrite by moving the constant terms outside of the integral:\n",
        "$$\n",
        "    \\frac{\\beta^\\alpha X}{\\Gamma(\\alpha)f(X)} \\int_0^\\ooR\n",
        "        \\frac{\\theta \\gamma(\\alpha, \\beta\\theta)}{\\exp\\pr{\\frac12 X^2\\theta}}\n",
        "    \\Diff \\theta = 1\n",
        "$$\n",
        "Unfortunately, we have no idea how to find this integral and finalize the calculations of the posterior. What we have found this far is:\n",
        "$$g\\prc{\\theta}X \\propto \\frac{\\theta X}{\\exp\\pr{\\frac12 X^2\\theta}} · \\frac{\\beta^\\alpha}{\\Gamma(\\alpha)} \\gamma(\\alpha, \\beta\\theta)$$"
      ]
    },
    {
      "cell_type": "markdown",
      "source": [
        "### Part (b)\n",
        "Denote the Jeffreys prior as $p(\\theta)$. Then:\n",
        "$$p(\\theta) = c · \\sqrt{\\I(\\theta)}$$\n",
        "where $c$ is a normalizing factor and $\\I(\\theta)$ is the Fisher information of $\\theta$. Expand the latter:\n",
        "$$p(\\theta) = c · \\sqrt{\n",
        "    -\\int_0^\\ooR\n",
        "        \\pr{\\partder[2]\\theta \\log f\\prc{X}\\theta}\n",
        "    f\\prc{X}\\theta \\Diff X\n",
        "}$$\n",
        "\n",
        "Substitute the value for $f\\prc{X}\\theta$:\n",
        "$$p(\\theta) = c · \\sqrt{\n",
        "    -\\int_0^\\ooR \\pr{\n",
        "        \\partder[2]\\theta \\log \\frac{X\\theta}{\\exp\\pr{\\frac12 X^2\\theta}}\n",
        "    } \\frac{X\\theta}{\\exp\\pr{\\frac12 X^2\\theta}} \\Diff X\n",
        "}$$\n",
        "\n",
        "Expand the logarithm:\n",
        "$$p(\\theta) = c · \\sqrt{\n",
        "    -\\int_0^\\ooR \\pr{\n",
        "        \\partder[2]\\theta \\pr{\\log X + \\log \\theta - \\frac12 X^2\\theta}\n",
        "    } \\frac{X\\theta}{\\exp\\pr{\\frac12 X^2\\theta}} \\Diff X\n",
        "}$$\n",
        "\n",
        "Take the first partial derivative of the parenthesized subexpression:\n",
        "$$p(\\theta) = c · \\sqrt{\n",
        "    -\\int_0^\\ooR \\pr{\n",
        "        \\partder\\theta \\pr{\n",
        "            \\frac1\\theta - \\frac12 X^2\n",
        "        }\n",
        "    } \\frac{X\\theta}{\\exp\\pr{\\frac12 X^2\\theta}} \\Diff X\n",
        "}$$\n",
        "\n",
        "Take the second partial derivative of the parenthesized subexpression:\n",
        "$$p(\\theta) = c · \\sqrt{\n",
        "    \\int_0^\\ooR \\frac1{\\theta^2}\n",
        "    · \\frac{X\\theta}{\\exp\\pr{\\frac12 X^2\\theta}} \\Diff X\n",
        "}$$\n",
        "\n",
        "Move $\\frac1{\\theta^2}$ out of the integral and the radical:\n",
        "$$p(\\theta) = \\frac c\\theta · \\sqrt{\n",
        "    \\int_0^\\ooR \\frac{X\\theta}{\\exp\\pr{\\frac12 X^2\\theta}} \\Diff X\n",
        "}$$\n",
        "\n",
        "Apply the definition of $f\\prc{X}\\theta$:\n",
        "$$p(\\theta) = \\frac c\\theta · \\sqrt{\n",
        "    \\int_0^\\ooR f\\prc{X}\\theta \\Diff X\n",
        "}$$\n",
        "\n",
        "$f\\prc{X}\\theta$ integrates to 1:\n",
        "$$p(\\theta) = \\frac c\\theta · \\sqrt1 = \\frac c\\theta$$\n",
        "\n",
        "Such $c$, however, does not exist, since $\\int_0^\\ooR \\frac c\\theta \\Diff\\theta$ diverges, but it only means that we have an improper prior, which shouldn't affect the derived posterior.\n",
        "\n",
        "Find the posterior:\n",
        "$$p\\prc{\\theta}X = k' · f\\prc{X}\\theta · p(\\theta)\n",
        "    = k · \\frac{X}{\\exp\\pr{\\frac12 X^2\\theta}}$$\n",
        "where $k$, $k'$ are normalizing factors.\n",
        "\n",
        "The posterior should integrate to 1:\n",
        "$$\\begin{split}\n",
        "    \\int_0^\\ooR p\\prc{\\theta}X \\Diff X\n",
        "    &= k\\int_0^\\ooR \\frac{X}{\\exp\\pr{\\frac12 X^2\\theta}} \\Diff X \\\\\n",
        "    &= \\frac k\\theta \\int_0^\\ooR \\frac{X\\theta}{\\exp\\pr{\\frac12 X^2\\theta}} \\Diff X \\\\\n",
        "    &= \\frac k\\theta \\int_0^\\ooR f\\prc{X}\\theta \\Diff X \\\\\n",
        "    &= \\frac k\\theta \\\\\n",
        "\\end{split}$$\n",
        "\n",
        "Hence, $k := \\theta$, and the final expression of the posterior is:\n",
        "$$p\\prc{\\theta}X = \\frac{\\theta X}{\\exp\\pr{\\frac12 X^2\\theta}}$$"
      ],
      "metadata": {
        "id": "sImgKKMENVJs"
      }
    },
    {
      "cell_type": "markdown",
      "metadata": {
        "id": "JwkBlGdiOn7z"
      },
      "source": [
        "<hr color=darkblue>\n",
        "\n",
        "<font color=darkblue size=6>📈<strong>Task 2: Kaggle-Crypto (for DSBA/ICEF/OOC)</strong></font>\n"
      ]
    },
    {
      "cell_type": "markdown",
      "metadata": {
        "id": "W9ilPSDFOwLI"
      },
      "source": [
        "<details><summary><font color=darkblue>▶ More info and Kaggle API instructions</font></summary>\n",
        "\n",
        "**Private URL** for students (allows submission) is in Moodle's HW assignment. **Public URL** with read-only access is [here](https://www.kaggle.com/c/hse-ml-hw12-nov-29-crypto/rules). See competition rules, submission, grading, dataset, and performance metric. The **starter code** below produces a baseline model, which you should beat, while respecting the competition rules. Your code starts after the timer. This is your baseline model. Remember to seed [RNG](https://en.wikipedia.org/wiki/Random_number_generation) in all experiments for reproducibility.\n",
        "\n",
        "**Instructions for enabling Kaggle API in Colab**:\n",
        "1. Accept competition rules before running [Kaggle API](https://github.com/Kaggle/kaggle-api#api-credentials). [Loading Kaggle dataset example](https://www.analyticsvidhya.com/blog/2021/06/how-to-load-kaggle-datasets-directly-into-google-colab)\n",
        "1. In your Kaggle Account, [Create API Token](https://github.com/Kaggle/kaggle-api#api-credentials) and save the resulting **kaggle.json** file to the [root of your Google Drive](https://drive.google.com/drive/u/0/my-drive) \n",
        "2. In Colab, open **Files** panel 🗀 (on the left) and click gray folder icon <font color=gray>🖿</font> to mount your Google drive\n",
        "\n",
        "Your Kaggle/Google Drive credentials are secure; and Colab's kaggle.json only lasts a Colab session.\n",
        "</details>"
      ]
    },
    {
      "cell_type": "code",
      "source": [
        "from google.colab import drive\n",
        "drive.mount('/content/drive')"
      ],
      "metadata": {
        "colab": {
          "base_uri": "https://localhost:8080/"
        },
        "id": "q425dl9qWB2l",
        "outputId": "7a5b3026-7797-4fdd-9db9-16552d973f20"
      },
      "execution_count": null,
      "outputs": [
        {
          "output_type": "stream",
          "name": "stdout",
          "text": [
            "Mounted at /content/drive\n"
          ]
        }
      ]
    },
    {
      "cell_type": "code",
      "metadata": {
        "colab": {
          "base_uri": "https://localhost:8080/"
        },
        "id": "3utXH5jETc5E",
        "outputId": "28eedf8d-4247-4463-d0f6-56df84450b1b"
      },
      "source": [
        "!pip -q install --upgrade --force-reinstall --no-deps kaggle > log  # upgrade kaggle package (to avoid a warning)\n",
        "!mkdir -p ~/.kaggle                                           # .kaggle folder must contain kaggle.json for kaggle executable to properly authenticate you to Kaggle.com\n",
        "!cp /content/drive/MyDrive/kaggle.json ~/.kaggle/kaggle.json >log  # First, download kaggle.json from kaggle.com (in Account page) and place it in the root of mounted Google Drive\n",
        "!cp kaggle.json ~/.kaggle/kaggle.json > log                   # Alternative location of kaggle.json (without a connection to Google Drive)\n",
        "!chmod 600 ~/.kaggle/kaggle.json                              # give only the owner full read/write access to kaggle.json\n",
        "!kaggle config set -n competition -v hse-ml-hw12-nov-29-crypto  # set the competition context for the next few kaggle API calls. !kaggle config view - shows current settings\n",
        "!kaggle competitions download >> log                          # download competition dataset as a zip file\n",
        "!unzip -o *.zip >> log                                        # Kaggle dataset is copied as a single file and needs to be unzipped.\n",
        "!kaggle competitions leaderboard --show                       # print public leaderboard"
      ],
      "execution_count": null,
      "outputs": [
        {
          "output_type": "stream",
          "name": "stdout",
          "text": [
            "cp: cannot stat 'kaggle.json': No such file or directory\n",
            "- competition is now set to: hse-ml-hw12-nov-29-crypto\n",
            "Using competition: hse-ml-hw12-nov-29-crypto\n",
            " teamId  teamName                                                   submissionDate       score    \n",
            "-------  ---------------------------------------------------------  -------------------  -------  \n",
            "7855357  IB-Black Swans-Adshead,Ivanushkina,Lukianov                2021-12-12 16:14:06  0.70757  \n",
            "7852868  Argunov Vlad                                               2021-12-12 18:27:10  0.37670  \n",
            "7845693  Dmitry Ignatev                                             2021-12-12 12:51:25  0.37468  \n",
            "7868551  Kseniya Yakunina                                           2021-12-12 19:18:05  0.16284  \n",
            "7876052  rageesteem                                                 2021-12-12 19:23:55  0.15841  \n",
            "7874618  Ushakov Stanislav                                          2021-12-12 16:20:02  0.15833  \n",
            "7872453  DQ-3D-Dzhkha,Dryagin,Bashminova                            2021-12-12 17:09:19  0.15591  \n",
            "7875962  DN-BNK-Babayan,Nikitin,Kurbatov                            2021-12-12 11:54:08  0.15481  \n",
            "7871196  Rybnikova Marianna                                         2021-12-12 10:55:14  0.15296  \n",
            "7875508  DB-Max Verstappen Fun Club-Mozharov,Korzun,Veips,Poletaev  2021-12-12 20:28:05  0.15240  \n",
            "7863864  KamillaZ                                                   2021-12-11 22:42:30  0.15140  \n",
            "7842870  DS-Anything-Xu_Ivanov_Kouis                                2021-12-12 19:49:50  0.15038  \n",
            "7831944  Emil                                                       2021-12-12 19:03:41  0.14949  \n",
            "7874263  DaniilKarcha                                               2021-12-12 11:59:01  0.14749  \n",
            "7874721  DA-GPU-Vasyutin,Ivanov,Stepin,Tedesco                      2021-12-12 20:13:21  0.14552  \n",
            "7836170  Igor Poletaev                                              2021-12-12 17:59:29  0.14544  \n",
            "7829462  Oleg Malchenko                                             2021-12-11 19:17:29  0.14434  \n",
            "7875414  Gleb Repin                                                 2021-12-12 20:29:39  0.14399  \n",
            "7851920  Emil Akopyan                                               2021-12-12 16:59:46  0.14287  \n",
            "7857379  Rutsinskiy Arsenty                                         2021-12-12 20:11:06  0.14077  \n",
            "7853445  Alexander Lakeev                                           2021-12-11 15:36:34  0.14010  \n",
            "7856788  DS-Dota-Baminiwatte,Zotov                                  2021-12-12 19:48:26  0.13997  \n",
            "7876165  EgorNikitin                                                2021-12-12 20:06:22  0.13997  \n",
            "7876047  Kobylkin Kirill                                            2021-12-12 20:18:49  0.13890  \n",
            "7865911  kol-di                                                     2021-12-12 20:12:35  0.13651  \n",
            "7871288  Boris Vasiliev                                             2021-12-12 14:30:02  0.13479  \n",
            "7866784  Nina Sharara                                               2021-12-10 19:41:15  0.13385  \n",
            "7875328  DP-Solo-Egorov,Korotonozhkin,Pershina                      2021-12-12 16:01:29  0.13367  \n",
            "7874220  HW12K                                                      2021-12-12 11:17:23  0.13355  \n",
            "7873928  Vrezh Babakekhyan                                          2021-12-12 18:50:04  0.13347  \n",
            "7863581  Arina Fayzulina                                            2021-12-12 20:09:23  0.13343  \n",
            "7801403  📈-baseline.csv                                             2021-11-28 06:26:04  0.13341  \n",
            "7874901  Alexander Stepin                                           2021-12-12 15:03:27  0.13302  \n",
            "7866073  DV-HW12V-Kobylkin, Vinogradov, Lanin                       2021-12-12 19:26:35  0.13292  \n",
            "7863685  Steve George Parakal                                       2021-12-12 14:56:46  0.13198  \n",
            "7851344  Gyursoy Efe                                                2021-12-12 20:04:25  0.13113  \n",
            "7874282  Danila Kokin                                               2021-12-12 19:57:04  0.09861  \n"
          ]
        }
      ]
    },
    {
      "cell_type": "markdown",
      "metadata": {
        "id": "hB2-hM7Iz-W2"
      },
      "source": [
        "See [more](https://nvidia.custhelp.com/app/answers/detail/a_id/3751/~/useful-nvidia-smi-queries) about NVIDIA GPU stats. Test your code in (free) Colab. It uses Tesla K80 GPU."
      ]
    },
    {
      "cell_type": "code",
      "metadata": {
        "colab": {
          "base_uri": "https://localhost:8080/"
        },
        "id": "fdOMIW_KyD73",
        "outputId": "e58aead4-bc9c-49d9-8e6f-4031b56d6123"
      },
      "source": [
        "!nvidia-smi --query-gpu=gpu_name,memory.total,memory.free,memory.used --format=csv"
      ],
      "execution_count": null,
      "outputs": [
        {
          "output_type": "stream",
          "name": "stdout",
          "text": [
            "name, memory.total [MiB], memory.free [MiB], memory.used [MiB]\n",
            "Tesla P100-PCIE-16GB, 16280 MiB, 16280 MiB, 0 MiB\n"
          ]
        }
      ]
    },
    {
      "cell_type": "code",
      "metadata": {
        "id": "GiUF7QG0Tnk8"
      },
      "source": [
        "!pip -q install -U tensorflow_addons > log   # update tfa in case students need to use it"
      ],
      "execution_count": null,
      "outputs": []
    },
    {
      "cell_type": "code",
      "metadata": {
        "colab": {
          "base_uri": "https://localhost:8080/"
        },
        "id": "XNs8WbjzTp71",
        "outputId": "e6decb52-3b49-4416-96a7-b3561f926d27"
      },
      "source": [
        "%%time\n",
        "%%capture\n",
        "%reset -f\n",
        "from IPython.core.interactiveshell import InteractiveShell as IS; IS.ast_node_interactivity = \"all\" \n",
        "import numpy as np, pandas as pd, time, matplotlib.pyplot as plt, os\n",
        "os.environ['TF_DETERMINISTIC_OPS'] = '1'  # We load it before tf. Still useless?  https://github.com/tensorflow/tensorflow/issues/38197\n",
        "import tensorflow_addons as tfa, tensorflow as tf, tensorflow.keras as keras, tensorflow_datasets as tfds\n",
        "from keras.models import Sequential\n",
        "from keras.layers import Flatten, Dense, Dropout, MaxPooling2D, Conv2D, GlobalAveragePooling2D\n",
        "from tensorflow.keras.layers import SimpleRNN, Flatten, Dense, RNN, LSTM, TimeDistributed\n",
        "ToCSV = lambda df, fname: df.round(2).to_csv(f'{fname}.csv', index_label='id') # rounds values to 2 decimals\n",
        "\n",
        "class Timer():\n",
        "  def __init__(self, lim:'RunTimeLimit'=60*5): self.t0, self.lim, _ = time.time(), lim, print(f'⏳ started. You have {lim} sec. Good luck!')\n",
        "  def ShowTime(self):\n",
        "    msg = f'Runtime is {time.time()-self.t0:.0f} sec'\n",
        "    print(f'\\033[91m\\033[1m' + msg + f' > {self.lim} sec limit!!!\\033[0m' if (time.time()-self.t0-1) > self.lim else msg)\n",
        "\n",
        "np.set_printoptions(linewidth=100, precision=2, edgeitems=5, suppress=True)\n",
        "pd.set_option('max_columns', 20, 'precision', 2, 'display.max_rows', 4)"
      ],
      "execution_count": null,
      "outputs": [
        {
          "output_type": "stream",
          "name": "stdout",
          "text": [
            "CPU times: user 2.22 s, sys: 363 ms, total: 2.58 s\n",
            "Wall time: 2.59 s\n"
          ]
        }
      ]
    },
    {
      "cell_type": "markdown",
      "metadata": {
        "id": "PgkRR6ZWTthh"
      },
      "source": [
        "Your training data are 7 descriptive features for past 500K observations. See helpful [Tutorial to the G-Research Crypto Competition](https://www.kaggle.com/cstein06/tutorial-to-the-g-research-crypto-competition)."
      ]
    },
    {
      "cell_type": "code",
      "metadata": {
        "colab": {
          "base_uri": "https://localhost:8080/",
          "height": 267
        },
        "id": "wsKZJFsLTvg2",
        "outputId": "2dd22755-8126-405f-a0ca-81018064795b"
      },
      "source": [
        "tXY = pd.read_csv('tXY.csv', index_col='id'); tXY"
      ],
      "execution_count": null,
      "outputs": [
        {
          "output_type": "execute_result",
          "data": {
            "text/html": [
              "<div>\n",
              "<style scoped>\n",
              "    .dataframe tbody tr th:only-of-type {\n",
              "        vertical-align: middle;\n",
              "    }\n",
              "\n",
              "    .dataframe tbody tr th {\n",
              "        vertical-align: top;\n",
              "    }\n",
              "\n",
              "    .dataframe thead th {\n",
              "        text-align: right;\n",
              "    }\n",
              "</style>\n",
              "<table border=\"1\" class=\"dataframe\">\n",
              "  <thead>\n",
              "    <tr style=\"text-align: right;\">\n",
              "      <th></th>\n",
              "      <th>Count</th>\n",
              "      <th>Open</th>\n",
              "      <th>High</th>\n",
              "      <th>Low</th>\n",
              "      <th>Close</th>\n",
              "      <th>Volume</th>\n",
              "      <th>VWAP</th>\n",
              "    </tr>\n",
              "    <tr>\n",
              "      <th>id</th>\n",
              "      <th></th>\n",
              "      <th></th>\n",
              "      <th></th>\n",
              "      <th></th>\n",
              "      <th></th>\n",
              "      <th></th>\n",
              "      <th></th>\n",
              "    </tr>\n",
              "  </thead>\n",
              "  <tbody>\n",
              "    <tr>\n",
              "      <th>0</th>\n",
              "      <td>64</td>\n",
              "      <td>0.20</td>\n",
              "      <td>0.20</td>\n",
              "      <td>0.20</td>\n",
              "      <td>0.20</td>\n",
              "      <td>447</td>\n",
              "      <td>0.20</td>\n",
              "    </tr>\n",
              "    <tr>\n",
              "      <th>1</th>\n",
              "      <td>72</td>\n",
              "      <td>0.20</td>\n",
              "      <td>0.20</td>\n",
              "      <td>0.20</td>\n",
              "      <td>0.20</td>\n",
              "      <td>592</td>\n",
              "      <td>0.20</td>\n",
              "    </tr>\n",
              "    <tr>\n",
              "      <th>...</th>\n",
              "      <td>...</td>\n",
              "      <td>...</td>\n",
              "      <td>...</td>\n",
              "      <td>...</td>\n",
              "      <td>...</td>\n",
              "      <td>...</td>\n",
              "      <td>...</td>\n",
              "    </tr>\n",
              "    <tr>\n",
              "      <th>499998</th>\n",
              "      <td>1636</td>\n",
              "      <td>1.15</td>\n",
              "      <td>1.16</td>\n",
              "      <td>1.15</td>\n",
              "      <td>1.15</td>\n",
              "      <td>2615</td>\n",
              "      <td>1.15</td>\n",
              "    </tr>\n",
              "    <tr>\n",
              "      <th>499999</th>\n",
              "      <td>3228</td>\n",
              "      <td>1.13</td>\n",
              "      <td>1.14</td>\n",
              "      <td>1.12</td>\n",
              "      <td>1.13</td>\n",
              "      <td>3354</td>\n",
              "      <td>1.13</td>\n",
              "    </tr>\n",
              "  </tbody>\n",
              "</table>\n",
              "<p>500000 rows × 7 columns</p>\n",
              "</div>"
            ],
            "text/plain": [
              "        Count  Open  High   Low  Close  Volume  VWAP\n",
              "id                                                  \n",
              "0          64  0.20  0.20  0.20   0.20     447  0.20\n",
              "1          72  0.20  0.20  0.20   0.20     592  0.20\n",
              "...       ...   ...   ...   ...    ...     ...   ...\n",
              "499998   1636  1.15  1.16  1.15   1.15    2615  1.15\n",
              "499999   3228  1.13  1.14  1.12   1.13    3354  1.13\n",
              "\n",
              "[500000 rows x 7 columns]"
            ]
          },
          "metadata": {},
          "execution_count": 8
        }
      ]
    },
    {
      "cell_type": "markdown",
      "metadata": {
        "id": "1FtA9fjlTyAi"
      },
      "source": [
        "Your task is to forecast the closing price for all future time steps (index IDs below)."
      ]
    },
    {
      "cell_type": "code",
      "metadata": {
        "colab": {
          "base_uri": "https://localhost:8080/",
          "height": 110
        },
        "id": "bQjKkPbnTzf2",
        "outputId": "fda612b8-062e-4342-ea8f-b89a8ff7fd2c"
      },
      "source": [
        "pY = pd.read_csv('sampleSubmission.csv', index_col='id'); pY.T"
      ],
      "execution_count": null,
      "outputs": [
        {
          "output_type": "execute_result",
          "data": {
            "text/html": [
              "<div>\n",
              "<style scoped>\n",
              "    .dataframe tbody tr th:only-of-type {\n",
              "        vertical-align: middle;\n",
              "    }\n",
              "\n",
              "    .dataframe tbody tr th {\n",
              "        vertical-align: top;\n",
              "    }\n",
              "\n",
              "    .dataframe thead th {\n",
              "        text-align: right;\n",
              "    }\n",
              "</style>\n",
              "<table border=\"1\" class=\"dataframe\">\n",
              "  <thead>\n",
              "    <tr style=\"text-align: right;\">\n",
              "      <th>id</th>\n",
              "      <th>500000</th>\n",
              "      <th>500001</th>\n",
              "      <th>500002</th>\n",
              "      <th>500003</th>\n",
              "      <th>500004</th>\n",
              "      <th>500005</th>\n",
              "      <th>500006</th>\n",
              "      <th>500007</th>\n",
              "      <th>500008</th>\n",
              "      <th>500009</th>\n",
              "      <th>...</th>\n",
              "      <th>524421</th>\n",
              "      <th>524422</th>\n",
              "      <th>524423</th>\n",
              "      <th>524424</th>\n",
              "      <th>524425</th>\n",
              "      <th>524426</th>\n",
              "      <th>524427</th>\n",
              "      <th>524428</th>\n",
              "      <th>524429</th>\n",
              "      <th>524430</th>\n",
              "    </tr>\n",
              "  </thead>\n",
              "  <tbody>\n",
              "    <tr>\n",
              "      <th>Close</th>\n",
              "      <td>0</td>\n",
              "      <td>0</td>\n",
              "      <td>0</td>\n",
              "      <td>0</td>\n",
              "      <td>0</td>\n",
              "      <td>0</td>\n",
              "      <td>0</td>\n",
              "      <td>0</td>\n",
              "      <td>0</td>\n",
              "      <td>0</td>\n",
              "      <td>...</td>\n",
              "      <td>0</td>\n",
              "      <td>0</td>\n",
              "      <td>0</td>\n",
              "      <td>0</td>\n",
              "      <td>0</td>\n",
              "      <td>0</td>\n",
              "      <td>0</td>\n",
              "      <td>0</td>\n",
              "      <td>0</td>\n",
              "      <td>0</td>\n",
              "    </tr>\n",
              "  </tbody>\n",
              "</table>\n",
              "<p>1 rows × 24431 columns</p>\n",
              "</div>"
            ],
            "text/plain": [
              "id     500000  500001  500002  500003  500004  500005  500006  500007  500008  \\\n",
              "Close       0       0       0       0       0       0       0       0       0   \n",
              "\n",
              "id     500009  ...  524421  524422  524423  524424  524425  524426  524427  \\\n",
              "Close       0  ...       0       0       0       0       0       0       0   \n",
              "\n",
              "id     524428  524429  524430  \n",
              "Close       0       0       0  \n",
              "\n",
              "[1 rows x 24431 columns]"
            ]
          },
          "metadata": {},
          "execution_count": 9
        }
      ]
    },
    {
      "cell_type": "code",
      "metadata": {
        "colab": {
          "base_uri": "https://localhost:8080/"
        },
        "id": "9XSZyYCpT1Pk",
        "outputId": "4d40b2bc-a466-4e1b-ac9a-5916c41e6fd2"
      },
      "source": [
        "tmr = Timer() # runtime limit (in seconds). Add all of your code after the timer"
      ],
      "execution_count": null,
      "outputs": [
        {
          "output_type": "stream",
          "name": "stdout",
          "text": [
            "⏳ started. You have 300 sec. Good luck!\n"
          ]
        }
      ]
    },
    {
      "cell_type": "markdown",
      "metadata": {
        "id": "Xpo-Pp0_T5vv"
      },
      "source": [
        "<font size=5>⏳</font> <strong><font color=orange size=5>Your Code, Documentation, Ideas and Timer Start Here...</font></strong>\n"
      ]
    },
    {
      "cell_type": "markdown",
      "metadata": {
        "id": "8lwJKYCgT9nt"
      },
      "source": [
        "**TODO. Explain your preprocessing:** i.e. feature engineering, subsampling, clustering, dimensionality reduction, etc."
      ]
    },
    {
      "cell_type": "markdown",
      "metadata": {
        "id": "ywEf1PZUT_nX"
      },
      "source": [
        "**TODO. Explain your modeling approach:** ideas you tried and why you thought they would be helpful. Takeaway: how these decisions guided you in modeling."
      ]
    },
    {
      "cell_type": "markdown",
      "metadata": {
        "id": "_SljnhkIUEPM"
      },
      "source": [
        "This is your baseline DNN model. Remember to [seed all your experiments](https://keras.io/getting_started/faq/#how-can-i-obtain-reproducible-results-using-keras-during-development) for reproducibility. [Status of GPU-Determinism in TF](https://github.com/NVIDIA/framework-determinism/blob/master/tensorflow_status.md). "
      ]
    },
    {
      "cell_type": "code",
      "source": [
        "tXY"
      ],
      "metadata": {
        "id": "xDgUmyOlR6jr",
        "colab": {
          "base_uri": "https://localhost:8080/",
          "height": 267
        },
        "outputId": "6933b4c2-b8b1-4b5d-a527-989a6fe20821"
      },
      "execution_count": null,
      "outputs": [
        {
          "output_type": "execute_result",
          "data": {
            "text/html": [
              "<div>\n",
              "<style scoped>\n",
              "    .dataframe tbody tr th:only-of-type {\n",
              "        vertical-align: middle;\n",
              "    }\n",
              "\n",
              "    .dataframe tbody tr th {\n",
              "        vertical-align: top;\n",
              "    }\n",
              "\n",
              "    .dataframe thead th {\n",
              "        text-align: right;\n",
              "    }\n",
              "</style>\n",
              "<table border=\"1\" class=\"dataframe\">\n",
              "  <thead>\n",
              "    <tr style=\"text-align: right;\">\n",
              "      <th></th>\n",
              "      <th>Count</th>\n",
              "      <th>Open</th>\n",
              "      <th>High</th>\n",
              "      <th>Low</th>\n",
              "      <th>Close</th>\n",
              "      <th>Volume</th>\n",
              "      <th>VWAP</th>\n",
              "    </tr>\n",
              "    <tr>\n",
              "      <th>id</th>\n",
              "      <th></th>\n",
              "      <th></th>\n",
              "      <th></th>\n",
              "      <th></th>\n",
              "      <th></th>\n",
              "      <th></th>\n",
              "      <th></th>\n",
              "    </tr>\n",
              "  </thead>\n",
              "  <tbody>\n",
              "    <tr>\n",
              "      <th>0</th>\n",
              "      <td>64</td>\n",
              "      <td>0.20</td>\n",
              "      <td>0.20</td>\n",
              "      <td>0.20</td>\n",
              "      <td>0.20</td>\n",
              "      <td>447</td>\n",
              "      <td>0.20</td>\n",
              "    </tr>\n",
              "    <tr>\n",
              "      <th>1</th>\n",
              "      <td>72</td>\n",
              "      <td>0.20</td>\n",
              "      <td>0.20</td>\n",
              "      <td>0.20</td>\n",
              "      <td>0.20</td>\n",
              "      <td>592</td>\n",
              "      <td>0.20</td>\n",
              "    </tr>\n",
              "    <tr>\n",
              "      <th>...</th>\n",
              "      <td>...</td>\n",
              "      <td>...</td>\n",
              "      <td>...</td>\n",
              "      <td>...</td>\n",
              "      <td>...</td>\n",
              "      <td>...</td>\n",
              "      <td>...</td>\n",
              "    </tr>\n",
              "    <tr>\n",
              "      <th>499998</th>\n",
              "      <td>1636</td>\n",
              "      <td>1.15</td>\n",
              "      <td>1.16</td>\n",
              "      <td>1.15</td>\n",
              "      <td>1.15</td>\n",
              "      <td>2615</td>\n",
              "      <td>1.15</td>\n",
              "    </tr>\n",
              "    <tr>\n",
              "      <th>499999</th>\n",
              "      <td>3228</td>\n",
              "      <td>1.13</td>\n",
              "      <td>1.14</td>\n",
              "      <td>1.12</td>\n",
              "      <td>1.13</td>\n",
              "      <td>3354</td>\n",
              "      <td>1.13</td>\n",
              "    </tr>\n",
              "  </tbody>\n",
              "</table>\n",
              "<p>500000 rows × 7 columns</p>\n",
              "</div>"
            ],
            "text/plain": [
              "        Count  Open  High   Low  Close  Volume  VWAP\n",
              "id                                                  \n",
              "0          64  0.20  0.20  0.20   0.20     447  0.20\n",
              "1          72  0.20  0.20  0.20   0.20     592  0.20\n",
              "...       ...   ...   ...   ...    ...     ...   ...\n",
              "499998   1636  1.15  1.16  1.15   1.15    2615  1.15\n",
              "499999   3228  1.13  1.14  1.12   1.13    3354  1.13\n",
              "\n",
              "[500000 rows x 7 columns]"
            ]
          },
          "metadata": {},
          "execution_count": 11
        }
      ]
    },
    {
      "cell_type": "code",
      "source": [
        "tXY['Volume/Count'] = tXY['Volume'] / tXY['Count']\n",
        "# tXY['diff_Close-Open'] = tXY['Close'] - tXY['Open']\n",
        "# tXY['logLow'] = np.log(tXY['Low'])\n",
        "# tXY['logHigh'] = np.log(tXY['High'])"
      ],
      "metadata": {
        "id": "8wv-uOlFR7_b"
      },
      "execution_count": null,
      "outputs": []
    },
    {
      "cell_type": "code",
      "metadata": {
        "colab": {
          "base_uri": "https://localhost:8080/",
          "height": 218
        },
        "id": "_0zQ1_EIUGil",
        "outputId": "7c37ed5c-659a-4665-f336-35587c4628f5"
      },
      "source": [
        "K, (N, p), Nx, Ny = 50, tXY.shape, 20000, len(pY)  # samples, dataset dim, train set size, forecast set size\n",
        "LtX, LtY = [], []\n",
        "for i in range(N-Ny-K, N-Ny):                     # populate K samples with past X series and future Y series\n",
        "  LtX.append(tXY.iloc[(i-Nx):i, :].values)        # X: historical 7Dim observations for Nx steps behind\n",
        "  LtY.append(tXY.loc[i:(i+Ny-1),'Close'].values)  # Y: future closing prices for Ny steps ahead\n",
        "taX, taY = np.array(LtX), np.array(LtY)           # training arrays past input X and future output Y\n",
        "print(f'taX.shape=(K,Nx,p)={taX.shape}; taY=(K,Ny)={taY.shape}')  # convert to 3-tensors\n",
        "\n",
        "df = pd.DataFrame(np.r_[taX[0,:,4], taY[0,:]], columns=['train past price'])\n",
        "ax = df.plot(figsize=(30,3), title=f'Training series (before and after)- just a closing price series (out of K={K})');\n",
        "pd.DataFrame(taX[0,:,4], columns=['train future price']).plot(grid=True, ax=ax);"
      ],
      "execution_count": null,
      "outputs": [
        {
          "output_type": "stream",
          "name": "stdout",
          "text": [
            "taX.shape=(K,Nx,p)=(50, 20000, 8); taY=(K,Ny)=(50, 24431)\n"
          ]
        },
        {
          "output_type": "display_data",
          "data": {
            "image/png": "[encoded data removed]",
            "text/plain": [
              "<Figure size 2160x216 with 1 Axes>"
            ]
          },
          "metadata": {
            "needs_background": "light"
          }
        }
      ]
    },
    {
      "cell_type": "markdown",
      "metadata": {
        "id": "Qszqi_GVUJMC"
      },
      "source": [
        "Build an LSTM model with two hidden layers. It splits $K$ samples into batches with 7D series $X_{N_x\\times p}$ as input and 1D series $Y_{N_y\\times 1}$ as output.\n"
      ]
    },
    {
      "cell_type": "code",
      "metadata": {
        "colab": {
          "base_uri": "https://localhost:8080/"
        },
        "id": "BmxkRLCYUI5Y",
        "outputId": "c2896d8b-9210-4623-d3f2-35571e32772d"
      },
      "source": [
        "%%time\n",
        "tf.random.set_seed(0)   # always seed your experiments\n",
        "Init = keras.initializers.GlorotUniform(seed=0) # seed all that you can\n",
        "\n",
        "m = Sequential(\n",
        "  [LSTM(100, return_sequences=True, input_shape=[None, p], name='LSTM1', kernel_initializer=Init, recurrent_initializer=Init), \n",
        "  Dropout(.2, name='d1'),\n",
        "  LSTM(75, name='LSTM2', return_sequences=True, kernel_initializer=Init, recurrent_initializer=Init),\n",
        "  Dropout(.2, name='d2'),\n",
        "  LSTM(75, name='LSTM3', kernel_initializer=Init, recurrent_initializer=Init),\n",
        "  Dropout(.2, name='d3'), \n",
        "  Dense(Ny, name='out', kernel_initializer=Init) ], name='RNN_model') # we build Ny forecasts\n",
        "m.summary()\n",
        "m.compile(optimizer='adam', loss='mean_squared_error')\n",
        "hist = m.fit(taX, taY, epochs=20, batch_size=32)"
      ],
      "execution_count": null,
      "outputs": [
        {
          "output_type": "stream",
          "name": "stdout",
          "text": [
            "Model: \"RNN_model\"\n",
            "_________________________________________________________________\n",
            " Layer (type)                Output Shape              Param #   \n",
            "=================================================================\n",
            " LSTM1 (LSTM)                (None, None, 100)         43600     \n",
            "                                                                 \n",
            " d1 (Dropout)                (None, None, 100)         0         \n",
            "                                                                 \n",
            " LSTM2 (LSTM)                (None, None, 75)          52800     \n",
            "                                                                 \n",
            " d2 (Dropout)                (None, None, 75)          0         \n",
            "                                                                 \n",
            " LSTM3 (LSTM)                (None, 75)                45300     \n",
            "                                                                 \n",
            " d3 (Dropout)                (None, 75)                0         \n",
            "                                                                 \n",
            " out (Dense)                 (None, 24431)             1856756   \n",
            "                                                                 \n",
            "=================================================================\n",
            "Total params: 1,998,456\n",
            "Trainable params: 1,998,456\n",
            "Non-trainable params: 0\n",
            "_________________________________________________________________\n",
            "Epoch 1/20\n",
            "2/2 [==============================] - 11s 2s/step - loss: 1.8333\n",
            "Epoch 2/20\n",
            "2/2 [==============================] - 4s 2s/step - loss: 1.7766\n",
            "Epoch 3/20\n",
            "2/2 [==============================] - 5s 2s/step - loss: 1.6523\n",
            "Epoch 4/20\n",
            "2/2 [==============================] - 5s 2s/step - loss: 1.4715\n",
            "Epoch 5/20\n",
            "2/2 [==============================] - 5s 2s/step - loss: 1.2413\n",
            "Epoch 6/20\n",
            "2/2 [==============================] - 5s 2s/step - loss: 1.0144\n",
            "Epoch 7/20\n",
            "2/2 [==============================] - 5s 2s/step - loss: 0.7765\n",
            "Epoch 8/20\n",
            "2/2 [==============================] - 5s 2s/step - loss: 0.5364\n",
            "Epoch 9/20\n",
            "2/2 [==============================] - 5s 2s/step - loss: 0.3587\n",
            "Epoch 10/20\n",
            "2/2 [==============================] - 5s 2s/step - loss: 0.1917\n",
            "Epoch 11/20\n",
            "2/2 [==============================] - 5s 2s/step - loss: 0.0951\n",
            "Epoch 12/20\n",
            "2/2 [==============================] - 5s 2s/step - loss: 0.0515\n",
            "Epoch 13/20\n",
            "2/2 [==============================] - 4s 2s/step - loss: 0.0426\n",
            "Epoch 14/20\n",
            "2/2 [==============================] - 5s 2s/step - loss: 0.0576\n",
            "Epoch 15/20\n",
            "2/2 [==============================] - 5s 2s/step - loss: 0.0754\n",
            "Epoch 16/20\n",
            "2/2 [==============================] - 5s 2s/step - loss: 0.0854\n",
            "Epoch 17/20\n",
            "2/2 [==============================] - 5s 2s/step - loss: 0.0668\n",
            "Epoch 18/20\n",
            "2/2 [==============================] - 4s 2s/step - loss: 0.0580\n",
            "Epoch 19/20\n",
            "2/2 [==============================] - 5s 2s/step - loss: 0.0366\n",
            "Epoch 20/20\n",
            "2/2 [==============================] - 5s 2s/step - loss: 0.0233\n",
            "CPU times: user 1min 12s, sys: 25.3 s, total: 1min 37s\n",
            "Wall time: 1min 41s\n"
          ]
        }
      ]
    },
    {
      "cell_type": "markdown",
      "metadata": {
        "id": "Y4U8JH30UN2j"
      },
      "source": [
        "The plot below: the model memorized the prices from recent history (plus some local noise). Still you can use these predictions to visually (i.e. qualitatively) determine whether predictions are meaningful (i.e. have price-like shape) or just noise."
      ]
    },
    {
      "cell_type": "code",
      "metadata": {
        "colab": {
          "base_uri": "https://localhost:8080/",
          "height": 230
        },
        "id": "DnebR-geUPSb",
        "outputId": "b9a9215b-8bfd-4fc0-f9a5-40fe8708abe9"
      },
      "source": [
        "tX_recent = tXY.iloc[-Nx:,:]  # most recent history of the coin\n",
        "print(f'tX_recent.shape=(Nx,p)={tX_recent.shape}')\n",
        "pY['Close'] = m.predict(tX_recent.values[np.newaxis,...]).flatten()  # the model expects a 3-tensor (K=1,Nx,p)\n",
        "ax = pd.concat([tX_recent.Close, pY.Close]).plot(figsize=(30,3), title='Most recent input X and forecasted output Y');\n",
        "tX_recent.Close.plot(ax=ax, grid=True);\n",
        "ax.legend([\"Historical (train) closing prices\", \"Future predicted closing prices\"]);"
      ],
      "execution_count": null,
      "outputs": [
        {
          "output_type": "stream",
          "name": "stdout",
          "text": [
            "tX_recent.shape=(Nx,p)=(20000, 8)\n"
          ]
        },
        {
          "output_type": "display_data",
          "data": {
            "image/png": "[encoded data removed]",
            "text/plain": [
              "<Figure size 2160x216 with 1 Axes>"
            ]
          },
          "metadata": {
            "needs_background": "light"
          }
        }
      ]
    },
    {
      "cell_type": "markdown",
      "metadata": {
        "id": "OZWsxVIgURQm"
      },
      "source": [
        "1. The model generates a baseline submission CSV file, see Colab folder (🗀 on the left). \n",
        "1. You can download the generated CSV file and submit it to Kaggle."
      ]
    },
    {
      "cell_type": "code",
      "metadata": {
        "id": "O_ZriML-UTXw"
      },
      "source": [
        "ToCSV(pY, 'Crypto-baseline')"
      ],
      "execution_count": null,
      "outputs": []
    },
    {
      "cell_type": "markdown",
      "metadata": {
        "id": "HZHs7admUZBW"
      },
      "source": [
        "<font size=5>⏳</font> <strong><font color=orange size=5>Do not exceed competition's runtime limit!</font></strong>\n"
      ]
    },
    {
      "cell_type": "code",
      "metadata": {
        "colab": {
          "base_uri": "https://localhost:8080/"
        },
        "id": "fbE5gM67Ub58",
        "outputId": "f29ac750-8c73-4ab5-8b03-18a93a8792a4"
      },
      "source": [
        "tmr.ShowTime()    # measure Colab's runtime. Do not remove. Keep as the last cell in your notebook."
      ],
      "execution_count": null,
      "outputs": [
        {
          "output_type": "stream",
          "name": "stdout",
          "text": [
            "Runtime is 104 sec\n"
          ]
        }
      ]
    },
    {
      "cell_type": "markdown",
      "metadata": {
        "id": "9g16vCtCUbFq"
      },
      "source": [
        "# 💡**Starter Ideas**"
      ]
    },
    {
      "cell_type": "markdown",
      "metadata": {
        "id": "YvS32F27UjFW"
      },
      "source": [
        "1. Try different RNN architectures and hyperparameters\n",
        "1. Try [correlation loss/metric](https://duckduckgo.com/?q=correlation+loss+in+tensorflow&ia=web) (or equivalent)\n",
        "1. Try longer/shorter history. FYI: GPU may not fit all observations, but you could lower the precision or simplify DNN\n",
        "1. Try forecasting returns (differences or log differences at different lags) instead of actual values. Returns might appear \"more\" stationary (You'll need to compute forecasted prices from forecasted returns later)\n",
        "1. Try new features: differences, fractions, powers of existing features, lagged features or lagged differences,..\n",
        "1. Try a different time scale. Eg. forecasting every $k$ steps and then imputing interim values\n",
        "1. Try technique in HOML pp.509-510\n",
        "1. Try (programmatically) assigning higher/lower weights to history or historical events (such as extreme events)\n",
        "1. Check [Kaggle G-Research Crypto Forecasting](https://www.kaggle.com/c/g-research-crypto-forecasting/code) competition for more suitable ideas.\n",
        "1. Try further smoothing/averaging and forecasting values at sparser intervals\n",
        "1. Try forecasting just the future trend"
      ]
    },
    {
      "cell_type": "code",
      "metadata": {
        "id": "71IevL6b-gkN"
      },
      "source": [
        ""
      ],
      "execution_count": null,
      "outputs": []
    }
  ]
}